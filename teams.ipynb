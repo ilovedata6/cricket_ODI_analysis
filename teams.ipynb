{
 "cells": [
  {
   "cell_type": "code",
   "execution_count": 1,
   "metadata": {},
   "outputs": [],
   "source": [
    "import pandas as pd\n",
    "import numpy as np\n",
    "import matplotlib.pyplot as plt\n",
    "import seaborn as sns"
   ]
  },
  {
   "cell_type": "code",
   "execution_count": 2,
   "metadata": {},
   "outputs": [],
   "source": [
    "teams = pd.read_csv(\"data/Men ODI Team Batting Stats.csv\")"
   ]
  },
  {
   "cell_type": "code",
   "execution_count": 3,
   "metadata": {},
   "outputs": [
    {
     "data": {
      "text/html": [
       "<div>\n",
       "<style scoped>\n",
       "    .dataframe tbody tr th:only-of-type {\n",
       "        vertical-align: middle;\n",
       "    }\n",
       "\n",
       "    .dataframe tbody tr th {\n",
       "        vertical-align: top;\n",
       "    }\n",
       "\n",
       "    .dataframe thead th {\n",
       "        text-align: right;\n",
       "    }\n",
       "</style>\n",
       "<table border=\"1\" class=\"dataframe\">\n",
       "  <thead>\n",
       "    <tr style=\"text-align: right;\">\n",
       "      <th></th>\n",
       "      <th>Country</th>\n",
       "      <th>Team Matches Played</th>\n",
       "      <th>Matches Won</th>\n",
       "      <th>Matches Lost</th>\n",
       "      <th>Matches Tied</th>\n",
       "      <th>Matches With No Result</th>\n",
       "      <th>Win/Loss Ratio</th>\n",
       "      <th>Avg Runs Per Wicket Batting</th>\n",
       "      <th>Avg Runs Per Six Balls Batting</th>\n",
       "      <th>Number Of Team Innings Batting</th>\n",
       "      <th>Highest Team Score Batting</th>\n",
       "      <th>Lowest Completed Score Batting</th>\n",
       "    </tr>\n",
       "  </thead>\n",
       "  <tbody>\n",
       "    <tr>\n",
       "      <th>0</th>\n",
       "      <td>England</td>\n",
       "      <td>746</td>\n",
       "      <td>375</td>\n",
       "      <td>334</td>\n",
       "      <td>9</td>\n",
       "      <td>28</td>\n",
       "      <td>1.122</td>\n",
       "      <td>31.10</td>\n",
       "      <td>4.91</td>\n",
       "      <td>738</td>\n",
       "      <td>481</td>\n",
       "      <td>86</td>\n",
       "    </tr>\n",
       "    <tr>\n",
       "      <th>1</th>\n",
       "      <td>Australia</td>\n",
       "      <td>949</td>\n",
       "      <td>575</td>\n",
       "      <td>331</td>\n",
       "      <td>9</td>\n",
       "      <td>34</td>\n",
       "      <td>1.737</td>\n",
       "      <td>34.14</td>\n",
       "      <td>5.01</td>\n",
       "      <td>939</td>\n",
       "      <td>434</td>\n",
       "      <td>70</td>\n",
       "    </tr>\n",
       "    <tr>\n",
       "      <th>2</th>\n",
       "      <td>South Africa</td>\n",
       "      <td>625</td>\n",
       "      <td>385</td>\n",
       "      <td>216</td>\n",
       "      <td>6</td>\n",
       "      <td>18</td>\n",
       "      <td>1.782</td>\n",
       "      <td>35.76</td>\n",
       "      <td>5.11</td>\n",
       "      <td>622</td>\n",
       "      <td>439</td>\n",
       "      <td>69</td>\n",
       "    </tr>\n",
       "  </tbody>\n",
       "</table>\n",
       "</div>"
      ],
      "text/plain": [
       "        Country  Team Matches Played  Matches Won  Matches Lost  Matches Tied  \\\n",
       "0       England                  746          375           334             9   \n",
       "1     Australia                  949          575           331             9   \n",
       "2  South Africa                  625          385           216             6   \n",
       "\n",
       "   Matches With No Result  Win/Loss Ratio  Avg Runs Per Wicket Batting  \\\n",
       "0                      28           1.122                        31.10   \n",
       "1                      34           1.737                        34.14   \n",
       "2                      18           1.782                        35.76   \n",
       "\n",
       "   Avg Runs Per Six Balls Batting  Number Of Team Innings Batting  \\\n",
       "0                            4.91                             738   \n",
       "1                            5.01                             939   \n",
       "2                            5.11                             622   \n",
       "\n",
       "   Highest Team Score Batting  Lowest Completed Score Batting  \n",
       "0                         481                              86  \n",
       "1                         434                              70  \n",
       "2                         439                              69  "
      ]
     },
     "execution_count": 3,
     "metadata": {},
     "output_type": "execute_result"
    }
   ],
   "source": [
    "teams.head(3)"
   ]
  },
  {
   "cell_type": "code",
   "execution_count": 4,
   "metadata": {},
   "outputs": [
    {
     "data": {
      "text/plain": [
       "Index(['Country', 'Team Matches Played', 'Matches Won', 'Matches Lost',\n",
       "       'Matches Tied', 'Matches With No Result', 'Win/Loss Ratio',\n",
       "       'Avg Runs Per Wicket Batting', 'Avg Runs Per Six Balls Batting',\n",
       "       'Number Of Team Innings Batting', 'Highest Team Score Batting',\n",
       "       'Lowest Completed Score Batting'],\n",
       "      dtype='object')"
      ]
     },
     "execution_count": 4,
     "metadata": {},
     "output_type": "execute_result"
    }
   ],
   "source": [
    "teams.columns"
   ]
  },
  {
   "cell_type": "code",
   "execution_count": 5,
   "metadata": {},
   "outputs": [
    {
     "name": "stdout",
     "output_type": "stream",
     "text": [
      "<class 'pandas.core.frame.DataFrame'>\n",
      "RangeIndex: 17 entries, 0 to 16\n",
      "Data columns (total 12 columns):\n",
      " #   Column                          Non-Null Count  Dtype  \n",
      "---  ------                          --------------  -----  \n",
      " 0   Country                         17 non-null     object \n",
      " 1   Team Matches Played             17 non-null     int64  \n",
      " 2   Matches Won                     17 non-null     int64  \n",
      " 3   Matches Lost                    17 non-null     int64  \n",
      " 4   Matches Tied                    17 non-null     int64  \n",
      " 5   Matches With No Result          17 non-null     int64  \n",
      " 6   Win/Loss Ratio                  17 non-null     float64\n",
      " 7   Avg Runs Per Wicket Batting     17 non-null     float64\n",
      " 8   Avg Runs Per Six Balls Batting  17 non-null     float64\n",
      " 9   Number Of Team Innings Batting  17 non-null     int64  \n",
      " 10  Highest Team Score Batting      17 non-null     int64  \n",
      " 11  Lowest Completed Score Batting  17 non-null     int64  \n",
      "dtypes: float64(3), int64(8), object(1)\n",
      "memory usage: 1.7+ KB\n"
     ]
    }
   ],
   "source": [
    "teams.info()"
   ]
  },
  {
   "cell_type": "code",
   "execution_count": 6,
   "metadata": {},
   "outputs": [
    {
     "data": {
      "text/html": [
       "<div>\n",
       "<style scoped>\n",
       "    .dataframe tbody tr th:only-of-type {\n",
       "        vertical-align: middle;\n",
       "    }\n",
       "\n",
       "    .dataframe tbody tr th {\n",
       "        vertical-align: top;\n",
       "    }\n",
       "\n",
       "    .dataframe thead th {\n",
       "        text-align: right;\n",
       "    }\n",
       "</style>\n",
       "<table border=\"1\" class=\"dataframe\">\n",
       "  <thead>\n",
       "    <tr style=\"text-align: right;\">\n",
       "      <th></th>\n",
       "      <th>count</th>\n",
       "      <th>mean</th>\n",
       "      <th>std</th>\n",
       "      <th>min</th>\n",
       "      <th>25%</th>\n",
       "      <th>50%</th>\n",
       "      <th>75%</th>\n",
       "      <th>max</th>\n",
       "    </tr>\n",
       "  </thead>\n",
       "  <tbody>\n",
       "    <tr>\n",
       "      <th>Team Matches Played</th>\n",
       "      <td>17.0</td>\n",
       "      <td>486.176471</td>\n",
       "      <td>367.997492</td>\n",
       "      <td>14.00</td>\n",
       "      <td>126.000</td>\n",
       "      <td>529.000</td>\n",
       "      <td>822.000</td>\n",
       "      <td>987.000</td>\n",
       "    </tr>\n",
       "    <tr>\n",
       "      <th>Matches Won</th>\n",
       "      <td>17.0</td>\n",
       "      <td>234.941176</td>\n",
       "      <td>203.680040</td>\n",
       "      <td>5.00</td>\n",
       "      <td>42.000</td>\n",
       "      <td>138.000</td>\n",
       "      <td>389.000</td>\n",
       "      <td>575.000</td>\n",
       "    </tr>\n",
       "    <tr>\n",
       "      <th>Matches Lost</th>\n",
       "      <td>17.0</td>\n",
       "      <td>229.647059</td>\n",
       "      <td>160.041378</td>\n",
       "      <td>9.00</td>\n",
       "      <td>66.000</td>\n",
       "      <td>241.000</td>\n",
       "      <td>374.000</td>\n",
       "      <td>424.000</td>\n",
       "    </tr>\n",
       "    <tr>\n",
       "      <th>Matches Tied</th>\n",
       "      <td>17.0</td>\n",
       "      <td>4.470588</td>\n",
       "      <td>3.858718</td>\n",
       "      <td>0.00</td>\n",
       "      <td>1.000</td>\n",
       "      <td>5.000</td>\n",
       "      <td>8.000</td>\n",
       "      <td>10.000</td>\n",
       "    </tr>\n",
       "    <tr>\n",
       "      <th>Matches With No Result</th>\n",
       "      <td>17.0</td>\n",
       "      <td>17.117647</td>\n",
       "      <td>14.886581</td>\n",
       "      <td>0.00</td>\n",
       "      <td>5.000</td>\n",
       "      <td>11.000</td>\n",
       "      <td>30.000</td>\n",
       "      <td>41.000</td>\n",
       "    </tr>\n",
       "    <tr>\n",
       "      <th>Win/Loss Ratio</th>\n",
       "      <td>17.0</td>\n",
       "      <td>0.891412</td>\n",
       "      <td>0.437226</td>\n",
       "      <td>0.25</td>\n",
       "      <td>0.555</td>\n",
       "      <td>0.923</td>\n",
       "      <td>1.122</td>\n",
       "      <td>1.782</td>\n",
       "    </tr>\n",
       "    <tr>\n",
       "      <th>Avg Runs Per Wicket Batting</th>\n",
       "      <td>17.0</td>\n",
       "      <td>28.010588</td>\n",
       "      <td>4.254516</td>\n",
       "      <td>21.66</td>\n",
       "      <td>25.380</td>\n",
       "      <td>26.890</td>\n",
       "      <td>30.650</td>\n",
       "      <td>35.760</td>\n",
       "    </tr>\n",
       "    <tr>\n",
       "      <th>Avg Runs Per Six Balls Batting</th>\n",
       "      <td>17.0</td>\n",
       "      <td>4.711765</td>\n",
       "      <td>0.273844</td>\n",
       "      <td>4.10</td>\n",
       "      <td>4.540</td>\n",
       "      <td>4.780</td>\n",
       "      <td>4.910</td>\n",
       "      <td>5.110</td>\n",
       "    </tr>\n",
       "    <tr>\n",
       "      <th>Number Of Team Innings Batting</th>\n",
       "      <td>17.0</td>\n",
       "      <td>480.705882</td>\n",
       "      <td>363.980385</td>\n",
       "      <td>14.00</td>\n",
       "      <td>125.000</td>\n",
       "      <td>525.000</td>\n",
       "      <td>811.000</td>\n",
       "      <td>975.000</td>\n",
       "    </tr>\n",
       "    <tr>\n",
       "      <th>Highest Team Score Batting</th>\n",
       "      <td>17.0</td>\n",
       "      <td>375.882353</td>\n",
       "      <td>55.576392</td>\n",
       "      <td>275.00</td>\n",
       "      <td>333.000</td>\n",
       "      <td>371.000</td>\n",
       "      <td>418.000</td>\n",
       "      <td>481.000</td>\n",
       "    </tr>\n",
       "    <tr>\n",
       "      <th>Lowest Completed Score Batting</th>\n",
       "      <td>17.0</td>\n",
       "      <td>61.823529</td>\n",
       "      <td>14.753115</td>\n",
       "      <td>35.00</td>\n",
       "      <td>54.000</td>\n",
       "      <td>64.000</td>\n",
       "      <td>70.000</td>\n",
       "      <td>86.000</td>\n",
       "    </tr>\n",
       "  </tbody>\n",
       "</table>\n",
       "</div>"
      ],
      "text/plain": [
       "                                count        mean         std     min  \\\n",
       "Team Matches Played              17.0  486.176471  367.997492   14.00   \n",
       "Matches Won                      17.0  234.941176  203.680040    5.00   \n",
       "Matches Lost                     17.0  229.647059  160.041378    9.00   \n",
       "Matches Tied                     17.0    4.470588    3.858718    0.00   \n",
       "Matches With No Result           17.0   17.117647   14.886581    0.00   \n",
       "Win/Loss Ratio                   17.0    0.891412    0.437226    0.25   \n",
       "Avg Runs Per Wicket Batting      17.0   28.010588    4.254516   21.66   \n",
       "Avg Runs Per Six Balls Batting   17.0    4.711765    0.273844    4.10   \n",
       "Number Of Team Innings Batting   17.0  480.705882  363.980385   14.00   \n",
       "Highest Team Score Batting       17.0  375.882353   55.576392  275.00   \n",
       "Lowest Completed Score Batting   17.0   61.823529   14.753115   35.00   \n",
       "\n",
       "                                    25%      50%      75%      max  \n",
       "Team Matches Played             126.000  529.000  822.000  987.000  \n",
       "Matches Won                      42.000  138.000  389.000  575.000  \n",
       "Matches Lost                     66.000  241.000  374.000  424.000  \n",
       "Matches Tied                      1.000    5.000    8.000   10.000  \n",
       "Matches With No Result            5.000   11.000   30.000   41.000  \n",
       "Win/Loss Ratio                    0.555    0.923    1.122    1.782  \n",
       "Avg Runs Per Wicket Batting      25.380   26.890   30.650   35.760  \n",
       "Avg Runs Per Six Balls Batting    4.540    4.780    4.910    5.110  \n",
       "Number Of Team Innings Batting  125.000  525.000  811.000  975.000  \n",
       "Highest Team Score Batting      333.000  371.000  418.000  481.000  \n",
       "Lowest Completed Score Batting   54.000   64.000   70.000   86.000  "
      ]
     },
     "execution_count": 6,
     "metadata": {},
     "output_type": "execute_result"
    }
   ],
   "source": [
    "teams.describe().T"
   ]
  },
  {
   "cell_type": "code",
   "execution_count": 7,
   "metadata": {},
   "outputs": [
    {
     "data": {
      "text/plain": [
       "Country                           0\n",
       "Team Matches Played               0\n",
       "Matches Won                       0\n",
       "Matches Lost                      0\n",
       "Matches Tied                      0\n",
       "Matches With No Result            0\n",
       "Win/Loss Ratio                    0\n",
       "Avg Runs Per Wicket Batting       0\n",
       "Avg Runs Per Six Balls Batting    0\n",
       "Number Of Team Innings Batting    0\n",
       "Highest Team Score Batting        0\n",
       "Lowest Completed Score Batting    0\n",
       "dtype: int64"
      ]
     },
     "execution_count": 7,
     "metadata": {},
     "output_type": "execute_result"
    }
   ],
   "source": [
    "# Missing Data\n",
    "\n",
    "teams.isna().sum()"
   ]
  },
  {
   "cell_type": "markdown",
   "metadata": {},
   "source": [
    "## Exploratory Data Analysis"
   ]
  },
  {
   "cell_type": "markdown",
   "metadata": {},
   "source": [
    "##### How many teams are present in the dataset?"
   ]
  },
  {
   "cell_type": "code",
   "execution_count": 8,
   "metadata": {},
   "outputs": [
    {
     "name": "stdout",
     "output_type": "stream",
     "text": [
      "Number of Teams in the Dataset are : 17\n"
     ]
    }
   ],
   "source": [
    "count_teams = teams.Country.nunique()\n",
    "print(f\"Number of Teams in the Dataset are : {count_teams}\")"
   ]
  },
  {
   "cell_type": "markdown",
   "metadata": {},
   "source": [
    "##### What is the distribution of matches won, lost, tied, and with no result?"
   ]
  },
  {
   "cell_type": "code",
   "execution_count": 9,
   "metadata": {},
   "outputs": [
    {
     "data": {
      "image/png": "[encoded data removed]",
      "text/plain": [
       "<Figure size 640x480 with 1 Axes>"
      ]
     },
     "metadata": {},
     "output_type": "display_data"
    }
   ],
   "source": [
    "matches_won = teams['Matches Won'].sum()\n",
    "matches_lost = teams['Matches Lost'].sum()\n",
    "matches_tied = teams['Matches Tied'].sum()\n",
    "matches_with_NR = teams['Matches With No Result'].sum()\n",
    "\n",
    "total_matches = matches_won + matches_lost + matches_tied + matches_with_NR\n",
    "\n",
    "# Create Pie Chart\n",
    "\n",
    "plt.pie([matches_won,matches_lost,matches_tied,matches_with_NR],labels = ['Won','Lost','Tied','No Result'],autopct=\"%1.0f%%\",explode=[0,0,0,0.1],startangle=45)\n",
    "plt.title(\"Distribution of Match Results\")\n",
    "plt.show()"
   ]
  },
  {
   "cell_type": "markdown",
   "metadata": {},
   "source": [
    "#### Which team has the highest win/loss ratio?"
   ]
  },
  {
   "cell_type": "code",
   "execution_count": 10,
   "metadata": {},
   "outputs": [
    {
     "name": "stdout",
     "output_type": "stream",
     "text": [
      "Cricket Team with highest Win/Loss Ratio is South Africa\n"
     ]
    }
   ],
   "source": [
    "winloss_country = teams.loc[teams['Win/Loss Ratio'].idxmax()]['Country']\n",
    "print(\"Cricket Team with highest Win/Loss Ratio is {}\".format(winloss_country))"
   ]
  },
  {
   "cell_type": "markdown",
   "metadata": {},
   "source": [
    "#### What is the average runs scored per wicket and per six balls?"
   ]
  },
  {
   "cell_type": "code",
   "execution_count": 11,
   "metadata": {},
   "outputs": [
    {
     "name": "stdout",
     "output_type": "stream",
     "text": [
      "The Average runs Scored per Wicket are : 28.01058823529412\n",
      "The Average Runs scored per Six Balls are : 4.711764705882353\n"
     ]
    }
   ],
   "source": [
    "avg_runs_wicket = teams['Avg Runs Per Wicket Batting'].mean()\n",
    "avg_runs_6balls = teams['Avg Runs Per Six Balls Batting'].mean()\n",
    "\n",
    "print(f\"The Average runs Scored per Wicket are : {avg_runs_wicket}\")\n",
    "print(f\"The Average Runs scored per Six Balls are : {avg_runs_6balls}\")"
   ]
  },
  {
   "cell_type": "markdown",
   "metadata": {},
   "source": [
    "#### How does the number of team innings vary across teams?"
   ]
  },
  {
   "cell_type": "code",
   "execution_count": 17,
   "metadata": {},
   "outputs": [
    {
     "data": {
      "image/png": "[encoded data removed]",
      "text/plain": [
       "<Figure size 1400x600 with 1 Axes>"
      ]
     },
     "metadata": {},
     "output_type": "display_data"
    }
   ],
   "source": [
    "plt.figure(figsize=(14,6))\n",
    "sns.barplot(data=teams,x='Country',y='Number Of Team Innings Batting')\n",
    "plt.title(\"Number of Innings across Teams\")\n",
    "plt.xlabel(\"Teams\")\n",
    "plt.ylabel(\"Number of Innings\")\n",
    "plt.xticks(rotation=45)\n",
    "plt.show()"
   ]
  }
 ],
 "metadata": {
  "kernelspec": {
   "display_name": "Python 3",
   "language": "python",
   "name": "python3"
  },
  "language_info": {
   "codemirror_mode": {
    "name": "ipython",
    "version": 3
   },
   "file_extension": ".py",
   "mimetype": "text/x-python",
   "name": "python",
   "nbconvert_exporter": "python",
   "pygments_lexer": "ipython3",
   "version": "3.11.4"
  },
  "orig_nbformat": 4
 },
 "nbformat": 4,
 "nbformat_minor": 2
}
