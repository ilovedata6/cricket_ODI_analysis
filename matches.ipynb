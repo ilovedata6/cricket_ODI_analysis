{
 "cells": [
  {
   "cell_type": "markdown",
   "metadata": {},
   "source": [
    "### ODI Cricket Matches Analysis"
   ]
  },
  {
   "cell_type": "code",
   "execution_count": 1,
   "metadata": {},
   "outputs": [],
   "source": [
    "#Importing useful libraries\n",
    "\n",
    "import pandas as pd\n",
    "import numpy as np\n",
    "import matplotlib.pyplot as plt\n",
    "import seaborn as sns"
   ]
  },
  {
   "cell_type": "code",
   "execution_count": 2,
   "metadata": {},
   "outputs": [
    {
     "data": {
      "text/html": [
       "<div>\n",
       "<style scoped>\n",
       "    .dataframe tbody tr th:only-of-type {\n",
       "        vertical-align: middle;\n",
       "    }\n",
       "\n",
       "    .dataframe tbody tr th {\n",
       "        vertical-align: top;\n",
       "    }\n",
       "\n",
       "    .dataframe thead th {\n",
       "        text-align: right;\n",
       "    }\n",
       "</style>\n",
       "<table border=\"1\" class=\"dataframe\">\n",
       "  <thead>\n",
       "    <tr style=\"text-align: right;\">\n",
       "      <th></th>\n",
       "      <th>Result</th>\n",
       "      <th>Margin</th>\n",
       "      <th>Match</th>\n",
       "      <th>Home/Away</th>\n",
       "      <th>Ground</th>\n",
       "      <th>Match Date</th>\n",
       "      <th>Match Month</th>\n",
       "      <th>Match Year</th>\n",
       "      <th>Match Period</th>\n",
       "      <th>Matches</th>\n",
       "      <th>Country</th>\n",
       "    </tr>\n",
       "  </thead>\n",
       "  <tbody>\n",
       "    <tr>\n",
       "      <th>0</th>\n",
       "      <td>Lost</td>\n",
       "      <td>5 wickets</td>\n",
       "      <td>Sri Lanka v England</td>\n",
       "      <td>Away</td>\n",
       "      <td>Dambulla</td>\n",
       "      <td>2001/03/23</td>\n",
       "      <td>Mar</td>\n",
       "      <td>2001</td>\n",
       "      <td>Mar 2001</td>\n",
       "      <td>1</td>\n",
       "      <td>England</td>\n",
       "    </tr>\n",
       "    <tr>\n",
       "      <th>1</th>\n",
       "      <td>Lost</td>\n",
       "      <td>66 runs</td>\n",
       "      <td>Sri Lanka v England</td>\n",
       "      <td>Away</td>\n",
       "      <td>Colombo (RPS)</td>\n",
       "      <td>2001/03/25</td>\n",
       "      <td>Mar</td>\n",
       "      <td>2001</td>\n",
       "      <td>Mar 2001</td>\n",
       "      <td>1</td>\n",
       "      <td>England</td>\n",
       "    </tr>\n",
       "  </tbody>\n",
       "</table>\n",
       "</div>"
      ],
      "text/plain": [
       "  Result     Margin                Match Home/Away         Ground  Match Date  \\\n",
       "0   Lost  5 wickets  Sri Lanka v England      Away       Dambulla  2001/03/23   \n",
       "1   Lost    66 runs  Sri Lanka v England      Away  Colombo (RPS)  2001/03/25   \n",
       "\n",
       "  Match Month  Match Year Match Period  Matches  Country  \n",
       "0         Mar        2001     Mar 2001        1  England  \n",
       "1         Mar        2001     Mar 2001        1  England  "
      ]
     },
     "execution_count": 2,
     "metadata": {},
     "output_type": "execute_result"
    }
   ],
   "source": [
    "# Load Data\n",
    "\n",
    "matches = pd.read_csv(\"data/Men ODI Team Match Results - 21st Century.csv\")\n",
    "matches.head(2)"
   ]
  },
  {
   "cell_type": "code",
   "execution_count": 3,
   "metadata": {},
   "outputs": [
    {
     "name": "stdout",
     "output_type": "stream",
     "text": [
      "<class 'pandas.core.frame.DataFrame'>\n",
      "RangeIndex: 5170 entries, 0 to 5169\n",
      "Data columns (total 11 columns):\n",
      " #   Column        Non-Null Count  Dtype \n",
      "---  ------        --------------  ----- \n",
      " 0   Result        5170 non-null   object\n",
      " 1   Margin        5163 non-null   object\n",
      " 2   Match         5170 non-null   object\n",
      " 3   Home/Away     5170 non-null   object\n",
      " 4   Ground        5170 non-null   object\n",
      " 5   Match Date    5170 non-null   object\n",
      " 6   Match Month   5170 non-null   object\n",
      " 7   Match Year    5170 non-null   int64 \n",
      " 8   Match Period  5170 non-null   object\n",
      " 9   Matches       5170 non-null   int64 \n",
      " 10  Country       5170 non-null   object\n",
      "dtypes: int64(2), object(9)\n",
      "memory usage: 444.4+ KB\n"
     ]
    }
   ],
   "source": [
    "# Shape and Datatypes\n",
    "\n",
    "matches.info()"
   ]
  },
  {
   "cell_type": "code",
   "execution_count": 4,
   "metadata": {},
   "outputs": [
    {
     "name": "stdout",
     "output_type": "stream",
     "text": [
      "Dataset has Result          0\n",
      "Margin          7\n",
      "Match           0\n",
      "Home/Away       0\n",
      "Ground          0\n",
      "Match Date      0\n",
      "Match Month     0\n",
      "Match Year      0\n",
      "Match Period    0\n",
      "Matches         0\n",
      "Country         0\n",
      "dtype: int64 missing values\n"
     ]
    }
   ],
   "source": [
    "# Missing Values\n",
    "\n",
    "missing = matches.isna().sum()\n",
    "print(f\"Dataset has {missing} missing values\")"
   ]
  },
  {
   "cell_type": "code",
   "execution_count": 5,
   "metadata": {},
   "outputs": [],
   "source": [
    "# Removing missing values as there are only 7 values missing\n",
    "\n",
    "matches = matches[~matches['Margin'].isna()]"
   ]
  },
  {
   "cell_type": "markdown",
   "metadata": {},
   "source": [
    "### Exploratory Data Analysis"
   ]
  },
  {
   "cell_type": "markdown",
   "metadata": {},
   "source": [
    "###### What is the distribution of match results (Win/Loss/Tied/NR) in the dataset?"
   ]
  },
  {
   "cell_type": "code",
   "execution_count": 6,
   "metadata": {},
   "outputs": [
    {
     "data": {
      "image/png": "[encoded data removed]",
      "text/plain": [
       "<Figure size 1400x600 with 1 Axes>"
      ]
     },
     "metadata": {},
     "output_type": "display_data"
    }
   ],
   "source": [
    "results = matches['Result'].value_counts().reset_index(name=\"matches\")\n",
    "\n",
    "plt.figure(figsize=(14,6))\n",
    "sns.barplot(x='Result',y='matches',data=results)\n",
    "plt.title(\"Distribution of Match Results\")\n",
    "plt.xlabel(\"Results\")\n",
    "plt.ylabel(\"Matches\")\n",
    "plt.show()"
   ]
  },
  {
   "cell_type": "code",
   "execution_count": 17,
   "metadata": {},
   "outputs": [
    {
     "data": {
      "text/plain": [
       "(4719, 13)"
      ]
     },
     "execution_count": 17,
     "metadata": {},
     "output_type": "execute_result"
    }
   ],
   "source": [
    "win_loss = matches[(matches['Result']=='Lost') | (matches['Result']=='Won')]\n",
    "win_loss.shape"
   ]
  },
  {
   "cell_type": "markdown",
   "metadata": {},
   "source": [
    "###### Find any patterns in margins of victory/defeat? Are Easy wins more common than close matches?"
   ]
  }
 ],
 "metadata": {
  "kernelspec": {
   "display_name": "Python 3",
   "language": "python",
   "name": "python3"
  },
  "language_info": {
   "codemirror_mode": {
    "name": "ipython",
    "version": 3
   },
   "file_extension": ".py",
   "mimetype": "text/x-python",
   "name": "python",
   "nbconvert_exporter": "python",
   "pygments_lexer": "ipython3",
   "version": "3.11.4"
  },
  "orig_nbformat": 4
 },
 "nbformat": 4,
 "nbformat_minor": 2
}
